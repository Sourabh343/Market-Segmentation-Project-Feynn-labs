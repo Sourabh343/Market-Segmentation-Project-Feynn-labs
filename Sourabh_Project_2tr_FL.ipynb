{
 "cells": [
  {
   "cell_type": "markdown",
   "metadata": {
    "id": "yvoFcmgYQuhb"
   },
   "source": [
    "# **Market Segmentation of Electronic Vehicles in India**\n",
    "\n",
    "\n",
    "---\n",
    "\n"
   ]
  },
  {
   "cell_type": "markdown",
   "metadata": {
    "id": "GZJ6v52T3Nze"
   },
   "source": [
    "## Sourabh Feynn Labs"
   ]
  },
  {
   "cell_type": "code",
   "execution_count": 1,
   "metadata": {
    "id": "jsgCgsXjSsRZ"
   },
   "outputs": [],
   "source": [
    "# importing the dependencies\n",
    "import pandas as pd\n",
    "import matplotlib.pyplot as plt\n",
    "import seaborn as sns\n",
    "from sklearn.model_selection import train_test_split\n",
    "from sklearn.preprocessing import StandardScaler\n",
    "from sklearn.decomposition import PCA\n",
    "from sklearn.cluster import KMeans"
   ]
  },
  {
   "cell_type": "markdown",
   "metadata": {
    "id": "j9cjCHtUR-jc"
   },
   "source": [
    "# **Fetching Datasets**"
   ]
  },
  {
   "cell_type": "code",
   "execution_count": 43,
   "metadata": {
    "colab": {
     "base_uri": "https://localhost:8080/",
     "height": 1094
    },
    "id": "MlFA85EOTf8l",
    "outputId": "71dc4aaf-b63d-49fb-d2f6-663395cda122"
   },
   "outputs": [
    {
     "name": "stderr",
     "output_type": "stream",
     "text": [
      "<>:3: SyntaxWarning: invalid escape sequence '\\F'\n",
      "<>:3: SyntaxWarning: invalid escape sequence '\\F'\n",
      "C:\\Users\\Bhanu\\AppData\\Local\\Temp\\ipykernel_5408\\696297992.py:3: SyntaxWarning: invalid escape sequence '\\F'\n",
      "  df1 = pd.read_csv('G:\\Feynn labs\\P2\\P2 Ev market/ElectricCarData_Norm.csv')\n"
     ]
    },
    {
     "data": {
      "text/html": [
       "<div>\n",
       "<style scoped>\n",
       "    .dataframe tbody tr th:only-of-type {\n",
       "        vertical-align: middle;\n",
       "    }\n",
       "\n",
       "    .dataframe tbody tr th {\n",
       "        vertical-align: top;\n",
       "    }\n",
       "\n",
       "    .dataframe thead th {\n",
       "        text-align: right;\n",
       "    }\n",
       "</style>\n",
       "<table border=\"1\" class=\"dataframe\">\n",
       "  <thead>\n",
       "    <tr style=\"text-align: right;\">\n",
       "      <th></th>\n",
       "      <th>Brand</th>\n",
       "      <th>Model</th>\n",
       "      <th>Accel</th>\n",
       "      <th>TopSpeed</th>\n",
       "      <th>Range</th>\n",
       "      <th>Efficiency</th>\n",
       "      <th>FastCharge</th>\n",
       "      <th>RapidCharge</th>\n",
       "      <th>PowerTrain</th>\n",
       "      <th>PlugType</th>\n",
       "      <th>BodyStyle</th>\n",
       "      <th>Segment</th>\n",
       "      <th>Seats</th>\n",
       "      <th>PriceEuro</th>\n",
       "    </tr>\n",
       "  </thead>\n",
       "  <tbody>\n",
       "    <tr>\n",
       "      <th>0</th>\n",
       "      <td>Tesla</td>\n",
       "      <td>Model 3 Long Range Dual Motor</td>\n",
       "      <td>4.6 sec</td>\n",
       "      <td>233 km/h</td>\n",
       "      <td>450 km</td>\n",
       "      <td>161 Wh/km</td>\n",
       "      <td>940 km/h</td>\n",
       "      <td>Rapid charging possible</td>\n",
       "      <td>All Wheel Drive</td>\n",
       "      <td>Type 2 CCS</td>\n",
       "      <td>Sedan</td>\n",
       "      <td>D</td>\n",
       "      <td>5</td>\n",
       "      <td>55480</td>\n",
       "    </tr>\n",
       "    <tr>\n",
       "      <th>1</th>\n",
       "      <td>Volkswagen</td>\n",
       "      <td>ID.3 Pure</td>\n",
       "      <td>10.0 sec</td>\n",
       "      <td>160 km/h</td>\n",
       "      <td>270 km</td>\n",
       "      <td>167 Wh/km</td>\n",
       "      <td>250 km/h</td>\n",
       "      <td>Rapid charging possible</td>\n",
       "      <td>Rear Wheel Drive</td>\n",
       "      <td>Type 2 CCS</td>\n",
       "      <td>Hatchback</td>\n",
       "      <td>C</td>\n",
       "      <td>5</td>\n",
       "      <td>30000</td>\n",
       "    </tr>\n",
       "    <tr>\n",
       "      <th>2</th>\n",
       "      <td>Polestar</td>\n",
       "      <td>2</td>\n",
       "      <td>4.7 sec</td>\n",
       "      <td>210 km/h</td>\n",
       "      <td>400 km</td>\n",
       "      <td>181 Wh/km</td>\n",
       "      <td>620 km/h</td>\n",
       "      <td>Rapid charging possible</td>\n",
       "      <td>All Wheel Drive</td>\n",
       "      <td>Type 2 CCS</td>\n",
       "      <td>Liftback</td>\n",
       "      <td>D</td>\n",
       "      <td>5</td>\n",
       "      <td>56440</td>\n",
       "    </tr>\n",
       "    <tr>\n",
       "      <th>3</th>\n",
       "      <td>BMW</td>\n",
       "      <td>iX3</td>\n",
       "      <td>6.8 sec</td>\n",
       "      <td>180 km/h</td>\n",
       "      <td>360 km</td>\n",
       "      <td>206 Wh/km</td>\n",
       "      <td>560 km/h</td>\n",
       "      <td>Rapid charging possible</td>\n",
       "      <td>Rear Wheel Drive</td>\n",
       "      <td>Type 2 CCS</td>\n",
       "      <td>SUV</td>\n",
       "      <td>D</td>\n",
       "      <td>5</td>\n",
       "      <td>68040</td>\n",
       "    </tr>\n",
       "    <tr>\n",
       "      <th>4</th>\n",
       "      <td>Honda</td>\n",
       "      <td>e</td>\n",
       "      <td>9.5 sec</td>\n",
       "      <td>145 km/h</td>\n",
       "      <td>170 km</td>\n",
       "      <td>168 Wh/km</td>\n",
       "      <td>190 km/h</td>\n",
       "      <td>Rapid charging possible</td>\n",
       "      <td>Rear Wheel Drive</td>\n",
       "      <td>Type 2 CCS</td>\n",
       "      <td>Hatchback</td>\n",
       "      <td>B</td>\n",
       "      <td>4</td>\n",
       "      <td>32997</td>\n",
       "    </tr>\n",
       "    <tr>\n",
       "      <th>...</th>\n",
       "      <td>...</td>\n",
       "      <td>...</td>\n",
       "      <td>...</td>\n",
       "      <td>...</td>\n",
       "      <td>...</td>\n",
       "      <td>...</td>\n",
       "      <td>...</td>\n",
       "      <td>...</td>\n",
       "      <td>...</td>\n",
       "      <td>...</td>\n",
       "      <td>...</td>\n",
       "      <td>...</td>\n",
       "      <td>...</td>\n",
       "      <td>...</td>\n",
       "    </tr>\n",
       "    <tr>\n",
       "      <th>98</th>\n",
       "      <td>Nissan</td>\n",
       "      <td>Ariya 63kWh</td>\n",
       "      <td>7.5 sec</td>\n",
       "      <td>160 km/h</td>\n",
       "      <td>330 km</td>\n",
       "      <td>191 Wh/km</td>\n",
       "      <td>440 km/h</td>\n",
       "      <td>Rapid charging possible</td>\n",
       "      <td>Front Wheel Drive</td>\n",
       "      <td>Type 2 CCS</td>\n",
       "      <td>Hatchback</td>\n",
       "      <td>C</td>\n",
       "      <td>5</td>\n",
       "      <td>45000</td>\n",
       "    </tr>\n",
       "    <tr>\n",
       "      <th>99</th>\n",
       "      <td>Audi</td>\n",
       "      <td>e-tron S Sportback 55 quattro</td>\n",
       "      <td>4.5 sec</td>\n",
       "      <td>210 km/h</td>\n",
       "      <td>335 km</td>\n",
       "      <td>258 Wh/km</td>\n",
       "      <td>540 km/h</td>\n",
       "      <td>Rapid charging possible</td>\n",
       "      <td>All Wheel Drive</td>\n",
       "      <td>Type 2 CCS</td>\n",
       "      <td>SUV</td>\n",
       "      <td>E</td>\n",
       "      <td>5</td>\n",
       "      <td>96050</td>\n",
       "    </tr>\n",
       "    <tr>\n",
       "      <th>100</th>\n",
       "      <td>Nissan</td>\n",
       "      <td>Ariya e-4ORCE 63kWh</td>\n",
       "      <td>5.9 sec</td>\n",
       "      <td>200 km/h</td>\n",
       "      <td>325 km</td>\n",
       "      <td>194 Wh/km</td>\n",
       "      <td>440 km/h</td>\n",
       "      <td>Rapid charging possible</td>\n",
       "      <td>All Wheel Drive</td>\n",
       "      <td>Type 2 CCS</td>\n",
       "      <td>Hatchback</td>\n",
       "      <td>C</td>\n",
       "      <td>5</td>\n",
       "      <td>50000</td>\n",
       "    </tr>\n",
       "    <tr>\n",
       "      <th>101</th>\n",
       "      <td>Nissan</td>\n",
       "      <td>Ariya e-4ORCE 87kWh Performance</td>\n",
       "      <td>5.1 sec</td>\n",
       "      <td>200 km/h</td>\n",
       "      <td>375 km</td>\n",
       "      <td>232 Wh/km</td>\n",
       "      <td>450 km/h</td>\n",
       "      <td>Rapid charging possible</td>\n",
       "      <td>All Wheel Drive</td>\n",
       "      <td>Type 2 CCS</td>\n",
       "      <td>Hatchback</td>\n",
       "      <td>C</td>\n",
       "      <td>5</td>\n",
       "      <td>65000</td>\n",
       "    </tr>\n",
       "    <tr>\n",
       "      <th>102</th>\n",
       "      <td>Byton</td>\n",
       "      <td>M-Byte 95 kWh 2WD</td>\n",
       "      <td>7.5 sec</td>\n",
       "      <td>190 km/h</td>\n",
       "      <td>400 km</td>\n",
       "      <td>238 Wh/km</td>\n",
       "      <td>480 km/h</td>\n",
       "      <td>Rapid charging possible</td>\n",
       "      <td>All Wheel Drive</td>\n",
       "      <td>Type 2 CCS</td>\n",
       "      <td>SUV</td>\n",
       "      <td>E</td>\n",
       "      <td>5</td>\n",
       "      <td>62000</td>\n",
       "    </tr>\n",
       "  </tbody>\n",
       "</table>\n",
       "<p>103 rows × 14 columns</p>\n",
       "</div>"
      ],
      "text/plain": [
       "           Brand                            Model     Accel  TopSpeed   Range  \\\n",
       "0         Tesla     Model 3 Long Range Dual Motor   4.6 sec  233 km/h  450 km   \n",
       "1    Volkswagen                         ID.3 Pure  10.0 sec  160 km/h  270 km   \n",
       "2      Polestar                                 2   4.7 sec  210 km/h  400 km   \n",
       "3           BMW                              iX3    6.8 sec  180 km/h  360 km   \n",
       "4         Honda                                e    9.5 sec  145 km/h  170 km   \n",
       "..           ...                              ...       ...       ...     ...   \n",
       "98       Nissan                       Ariya 63kWh   7.5 sec  160 km/h  330 km   \n",
       "99         Audi     e-tron S Sportback 55 quattro   4.5 sec  210 km/h  335 km   \n",
       "100      Nissan               Ariya e-4ORCE 63kWh   5.9 sec  200 km/h  325 km   \n",
       "101      Nissan   Ariya e-4ORCE 87kWh Performance   5.1 sec  200 km/h  375 km   \n",
       "102       Byton                 M-Byte 95 kWh 2WD   7.5 sec  190 km/h  400 km   \n",
       "\n",
       "    Efficiency FastCharge              RapidCharge         PowerTrain  \\\n",
       "0    161 Wh/km   940 km/h  Rapid charging possible    All Wheel Drive   \n",
       "1    167 Wh/km   250 km/h  Rapid charging possible   Rear Wheel Drive   \n",
       "2    181 Wh/km   620 km/h  Rapid charging possible    All Wheel Drive   \n",
       "3    206 Wh/km   560 km/h  Rapid charging possible   Rear Wheel Drive   \n",
       "4    168 Wh/km   190 km/h  Rapid charging possible   Rear Wheel Drive   \n",
       "..         ...        ...                      ...                ...   \n",
       "98   191 Wh/km   440 km/h  Rapid charging possible  Front Wheel Drive   \n",
       "99   258 Wh/km   540 km/h  Rapid charging possible    All Wheel Drive   \n",
       "100  194 Wh/km   440 km/h  Rapid charging possible    All Wheel Drive   \n",
       "101  232 Wh/km   450 km/h  Rapid charging possible    All Wheel Drive   \n",
       "102  238 Wh/km   480 km/h  Rapid charging possible    All Wheel Drive   \n",
       "\n",
       "       PlugType  BodyStyle Segment  Seats  PriceEuro  \n",
       "0    Type 2 CCS      Sedan       D      5      55480  \n",
       "1    Type 2 CCS  Hatchback       C      5      30000  \n",
       "2    Type 2 CCS   Liftback       D      5      56440  \n",
       "3    Type 2 CCS        SUV       D      5      68040  \n",
       "4    Type 2 CCS  Hatchback       B      4      32997  \n",
       "..          ...        ...     ...    ...        ...  \n",
       "98   Type 2 CCS  Hatchback       C      5      45000  \n",
       "99   Type 2 CCS        SUV       E      5      96050  \n",
       "100  Type 2 CCS  Hatchback       C      5      50000  \n",
       "101  Type 2 CCS  Hatchback       C      5      65000  \n",
       "102  Type 2 CCS        SUV       E      5      62000  \n",
       "\n",
       "[103 rows x 14 columns]"
      ]
     },
     "execution_count": 43,
     "metadata": {},
     "output_type": "execute_result"
    }
   ],
   "source": [
    "# fetching dataset - 1\n",
    "# Fuel type\n",
    "df1 = pd.read_csv('G:\\Feynn labs\\P2\\P2 Ev market/ElectricCarData_Norm.csv')\n",
    "df1"
   ]
  },
  {
   "cell_type": "code",
   "execution_count": 10,
   "metadata": {
    "colab": {
     "base_uri": "https://localhost:8080/",
     "height": 808
    },
    "id": "bdMtvLEfXGQb",
    "outputId": "56bdd724-8abc-4a8e-b281-02035b3d85e8"
   },
   "outputs": [
    {
     "name": "stderr",
     "output_type": "stream",
     "text": [
      "<>:2: SyntaxWarning: invalid escape sequence '\\F'\n",
      "<>:2: SyntaxWarning: invalid escape sequence '\\F'\n",
      "C:\\Users\\Bhanu\\AppData\\Local\\Temp\\ipykernel_5408\\1765592151.py:2: SyntaxWarning: invalid escape sequence '\\F'\n",
      "  df2 = pd.read_csv('G:\\Feynn labs\\P2\\P2 Ev market/IEA-EV-dataEV_salesHistoricalCars.csv')\n"
     ]
    },
    {
     "data": {
      "text/html": [
       "<div>\n",
       "<style scoped>\n",
       "    .dataframe tbody tr th:only-of-type {\n",
       "        vertical-align: middle;\n",
       "    }\n",
       "\n",
       "    .dataframe tbody tr th {\n",
       "        vertical-align: top;\n",
       "    }\n",
       "\n",
       "    .dataframe thead th {\n",
       "        text-align: right;\n",
       "    }\n",
       "</style>\n",
       "<table border=\"1\" class=\"dataframe\">\n",
       "  <thead>\n",
       "    <tr style=\"text-align: right;\">\n",
       "      <th></th>\n",
       "      <th>region</th>\n",
       "      <th>category</th>\n",
       "      <th>parameter</th>\n",
       "      <th>mode</th>\n",
       "      <th>powertrain</th>\n",
       "      <th>year</th>\n",
       "      <th>unit</th>\n",
       "      <th>value</th>\n",
       "    </tr>\n",
       "  </thead>\n",
       "  <tbody>\n",
       "    <tr>\n",
       "      <th>0</th>\n",
       "      <td>Australia</td>\n",
       "      <td>Historical</td>\n",
       "      <td>EV stock</td>\n",
       "      <td>Cars</td>\n",
       "      <td>BEV</td>\n",
       "      <td>2011</td>\n",
       "      <td>Vehicles</td>\n",
       "      <td>4.900000e+01</td>\n",
       "    </tr>\n",
       "    <tr>\n",
       "      <th>1</th>\n",
       "      <td>Australia</td>\n",
       "      <td>Historical</td>\n",
       "      <td>EV stock share</td>\n",
       "      <td>Cars</td>\n",
       "      <td>EV</td>\n",
       "      <td>2011</td>\n",
       "      <td>percent</td>\n",
       "      <td>4.600000e-04</td>\n",
       "    </tr>\n",
       "    <tr>\n",
       "      <th>2</th>\n",
       "      <td>Australia</td>\n",
       "      <td>Historical</td>\n",
       "      <td>EV sales share</td>\n",
       "      <td>Cars</td>\n",
       "      <td>EV</td>\n",
       "      <td>2011</td>\n",
       "      <td>percent</td>\n",
       "      <td>6.500000e-03</td>\n",
       "    </tr>\n",
       "    <tr>\n",
       "      <th>3</th>\n",
       "      <td>Australia</td>\n",
       "      <td>Historical</td>\n",
       "      <td>EV sales</td>\n",
       "      <td>Cars</td>\n",
       "      <td>BEV</td>\n",
       "      <td>2011</td>\n",
       "      <td>Vehicles</td>\n",
       "      <td>4.900000e+01</td>\n",
       "    </tr>\n",
       "    <tr>\n",
       "      <th>4</th>\n",
       "      <td>Australia</td>\n",
       "      <td>Historical</td>\n",
       "      <td>EV sales</td>\n",
       "      <td>Cars</td>\n",
       "      <td>BEV</td>\n",
       "      <td>2012</td>\n",
       "      <td>Vehicles</td>\n",
       "      <td>1.700000e+02</td>\n",
       "    </tr>\n",
       "    <tr>\n",
       "      <th>...</th>\n",
       "      <td>...</td>\n",
       "      <td>...</td>\n",
       "      <td>...</td>\n",
       "      <td>...</td>\n",
       "      <td>...</td>\n",
       "      <td>...</td>\n",
       "      <td>...</td>\n",
       "      <td>...</td>\n",
       "    </tr>\n",
       "    <tr>\n",
       "      <th>2771</th>\n",
       "      <td>World</td>\n",
       "      <td>Historical</td>\n",
       "      <td>Oil displacement Mbd</td>\n",
       "      <td>Cars</td>\n",
       "      <td>EV</td>\n",
       "      <td>2022</td>\n",
       "      <td>Milion barrels per day</td>\n",
       "      <td>4.300000e-01</td>\n",
       "    </tr>\n",
       "    <tr>\n",
       "      <th>2772</th>\n",
       "      <td>World</td>\n",
       "      <td>Historical</td>\n",
       "      <td>Oil displacement, million lge</td>\n",
       "      <td>Cars</td>\n",
       "      <td>EV</td>\n",
       "      <td>2022</td>\n",
       "      <td>Oil displacement, million lge</td>\n",
       "      <td>2.500000e+04</td>\n",
       "    </tr>\n",
       "    <tr>\n",
       "      <th>2773</th>\n",
       "      <td>World</td>\n",
       "      <td>Historical</td>\n",
       "      <td>EV sales</td>\n",
       "      <td>Cars</td>\n",
       "      <td>BEV</td>\n",
       "      <td>2022</td>\n",
       "      <td>Vehicles</td>\n",
       "      <td>7.300000e+06</td>\n",
       "    </tr>\n",
       "    <tr>\n",
       "      <th>2774</th>\n",
       "      <td>World</td>\n",
       "      <td>Historical</td>\n",
       "      <td>EV sales share</td>\n",
       "      <td>Cars</td>\n",
       "      <td>EV</td>\n",
       "      <td>2022</td>\n",
       "      <td>percent</td>\n",
       "      <td>1.400000e+01</td>\n",
       "    </tr>\n",
       "    <tr>\n",
       "      <th>2775</th>\n",
       "      <td>World</td>\n",
       "      <td>Historical</td>\n",
       "      <td>EV stock share</td>\n",
       "      <td>Cars</td>\n",
       "      <td>EV</td>\n",
       "      <td>2022</td>\n",
       "      <td>percent</td>\n",
       "      <td>2.100000e+00</td>\n",
       "    </tr>\n",
       "  </tbody>\n",
       "</table>\n",
       "<p>2776 rows × 8 columns</p>\n",
       "</div>"
      ],
      "text/plain": [
       "         region    category                      parameter  mode powertrain  \\\n",
       "0     Australia  Historical                       EV stock  Cars        BEV   \n",
       "1     Australia  Historical                 EV stock share  Cars         EV   \n",
       "2     Australia  Historical                 EV sales share  Cars         EV   \n",
       "3     Australia  Historical                       EV sales  Cars        BEV   \n",
       "4     Australia  Historical                       EV sales  Cars        BEV   \n",
       "...         ...         ...                            ...   ...        ...   \n",
       "2771      World  Historical           Oil displacement Mbd  Cars         EV   \n",
       "2772      World  Historical  Oil displacement, million lge  Cars         EV   \n",
       "2773      World  Historical                       EV sales  Cars        BEV   \n",
       "2774      World  Historical                 EV sales share  Cars         EV   \n",
       "2775      World  Historical                 EV stock share  Cars         EV   \n",
       "\n",
       "      year                           unit         value  \n",
       "0     2011                       Vehicles  4.900000e+01  \n",
       "1     2011                        percent  4.600000e-04  \n",
       "2     2011                        percent  6.500000e-03  \n",
       "3     2011                       Vehicles  4.900000e+01  \n",
       "4     2012                       Vehicles  1.700000e+02  \n",
       "...    ...                            ...           ...  \n",
       "2771  2022         Milion barrels per day  4.300000e-01  \n",
       "2772  2022  Oil displacement, million lge  2.500000e+04  \n",
       "2773  2022                       Vehicles  7.300000e+06  \n",
       "2774  2022                        percent  1.400000e+01  \n",
       "2775  2022                        percent  2.100000e+00  \n",
       "\n",
       "[2776 rows x 8 columns]"
      ]
     },
     "execution_count": 10,
     "metadata": {},
     "output_type": "execute_result"
    }
   ],
   "source": [
    "# fetching dataset - 2\n",
    "df2 = pd.read_csv('G:\\Feynn labs\\P2\\P2 Ev market/IEA-EV-dataEV_salesHistoricalCars.csv')\n",
    "df2"
   ]
  },
  {
   "cell_type": "code",
   "execution_count": null,
   "metadata": {},
   "outputs": [],
   "source": []
  },
  {
   "cell_type": "markdown",
   "metadata": {
    "id": "pYAbeUKYSGNy"
   },
   "source": [
    "# **Performing Exploratory Data Analysis(EDA)**"
   ]
  },
  {
   "cell_type": "markdown",
   "metadata": {
    "id": "Z3nGHgj9STni"
   },
   "source": [
    "# *Data Description and analysis for both datasets*"
   ]
  },
  {
   "cell_type": "code",
   "execution_count": 44,
   "metadata": {
    "colab": {
     "base_uri": "https://localhost:8080/"
    },
    "id": "B1MsLl1Hxq60",
    "outputId": "fa461646-7bcc-49e4-f631-ec33779e8cd0"
   },
   "outputs": [
    {
     "name": "stdout",
     "output_type": "stream",
     "text": [
      "DF1 Shape:  (103, 14)\n",
      "DF2 Shape:  (2776, 8)\n"
     ]
    }
   ],
   "source": [
    "# checking the shape (# of rows and columns) of the datasets\n",
    "print('DF1 Shape: ', df1.shape)\n",
    "print('DF2 Shape: ', df2.shape)"
   ]
  },
  {
   "cell_type": "code",
   "execution_count": 45,
   "metadata": {
    "colab": {
     "base_uri": "https://localhost:8080/"
    },
    "id": "xWPCyWSvxuZK",
    "outputId": "fc1f0a3a-6bfb-4a00-b9e1-5c30cda6e7a4"
   },
   "outputs": [
    {
     "name": "stdout",
     "output_type": "stream",
     "text": [
      " <<< DATASET 1 >>> \n",
      "<class 'pandas.core.frame.DataFrame'>\n",
      "RangeIndex: 103 entries, 0 to 102\n",
      "Data columns (total 14 columns):\n",
      " #   Column       Non-Null Count  Dtype \n",
      "---  ------       --------------  ----- \n",
      " 0   Brand        103 non-null    object\n",
      " 1   Model        103 non-null    object\n",
      " 2   Accel        103 non-null    object\n",
      " 3   TopSpeed     103 non-null    object\n",
      " 4   Range        103 non-null    object\n",
      " 5   Efficiency   103 non-null    object\n",
      " 6   FastCharge   103 non-null    object\n",
      " 7   RapidCharge  103 non-null    object\n",
      " 8   PowerTrain   103 non-null    object\n",
      " 9   PlugType     103 non-null    object\n",
      " 10  BodyStyle    103 non-null    object\n",
      " 11  Segment      103 non-null    object\n",
      " 12  Seats        103 non-null    int64 \n",
      " 13  PriceEuro    103 non-null    int64 \n",
      "dtypes: int64(2), object(12)\n",
      "memory usage: 11.4+ KB\n",
      "None\n",
      "\n",
      " <<< DATASET 2 >>>\n",
      "<class 'pandas.core.frame.DataFrame'>\n",
      "RangeIndex: 2776 entries, 0 to 2775\n",
      "Data columns (total 8 columns):\n",
      " #   Column      Non-Null Count  Dtype  \n",
      "---  ------      --------------  -----  \n",
      " 0   region      2776 non-null   object \n",
      " 1   category    2776 non-null   object \n",
      " 2   parameter   2776 non-null   object \n",
      " 3   mode        2776 non-null   object \n",
      " 4   powertrain  2776 non-null   object \n",
      " 5   year        2776 non-null   int64  \n",
      " 6   unit        2776 non-null   object \n",
      " 7   value       2776 non-null   float64\n",
      "dtypes: float64(1), int64(1), object(6)\n",
      "memory usage: 173.6+ KB\n",
      "None\n"
     ]
    }
   ],
   "source": [
    "# checking the info (columns, datatypes, nulls) of the datasets\n",
    "print(' <<< DATASET 1 >>> ')\n",
    "print(df1.info())\n",
    "print('\\n <<< DATASET 2 >>>')\n",
    "print(df2.info())"
   ]
  },
  {
   "cell_type": "code",
   "execution_count": 46,
   "metadata": {
    "colab": {
     "base_uri": "https://localhost:8080/",
     "height": 742
    },
    "id": "RSJ-w8MqySRu",
    "outputId": "4f61af0e-dd35-45ac-ff7c-7aa3a3eb3673"
   },
   "outputs": [
    {
     "data": {
      "text/plain": [
       "'<<< DATASET 1 >>>'"
      ]
     },
     "metadata": {},
     "output_type": "display_data"
    },
    {
     "data": {
      "text/html": [
       "<div>\n",
       "<style scoped>\n",
       "    .dataframe tbody tr th:only-of-type {\n",
       "        vertical-align: middle;\n",
       "    }\n",
       "\n",
       "    .dataframe tbody tr th {\n",
       "        vertical-align: top;\n",
       "    }\n",
       "\n",
       "    .dataframe thead th {\n",
       "        text-align: right;\n",
       "    }\n",
       "</style>\n",
       "<table border=\"1\" class=\"dataframe\">\n",
       "  <thead>\n",
       "    <tr style=\"text-align: right;\">\n",
       "      <th></th>\n",
       "      <th>Seats</th>\n",
       "      <th>PriceEuro</th>\n",
       "    </tr>\n",
       "  </thead>\n",
       "  <tbody>\n",
       "    <tr>\n",
       "      <th>count</th>\n",
       "      <td>103.000000</td>\n",
       "      <td>103.000000</td>\n",
       "    </tr>\n",
       "    <tr>\n",
       "      <th>mean</th>\n",
       "      <td>4.883495</td>\n",
       "      <td>55811.563107</td>\n",
       "    </tr>\n",
       "    <tr>\n",
       "      <th>std</th>\n",
       "      <td>0.795834</td>\n",
       "      <td>34134.665280</td>\n",
       "    </tr>\n",
       "    <tr>\n",
       "      <th>min</th>\n",
       "      <td>2.000000</td>\n",
       "      <td>20129.000000</td>\n",
       "    </tr>\n",
       "    <tr>\n",
       "      <th>25%</th>\n",
       "      <td>5.000000</td>\n",
       "      <td>34429.500000</td>\n",
       "    </tr>\n",
       "    <tr>\n",
       "      <th>50%</th>\n",
       "      <td>5.000000</td>\n",
       "      <td>45000.000000</td>\n",
       "    </tr>\n",
       "    <tr>\n",
       "      <th>75%</th>\n",
       "      <td>5.000000</td>\n",
       "      <td>65000.000000</td>\n",
       "    </tr>\n",
       "    <tr>\n",
       "      <th>max</th>\n",
       "      <td>7.000000</td>\n",
       "      <td>215000.000000</td>\n",
       "    </tr>\n",
       "  </tbody>\n",
       "</table>\n",
       "</div>"
      ],
      "text/plain": [
       "            Seats      PriceEuro\n",
       "count  103.000000     103.000000\n",
       "mean     4.883495   55811.563107\n",
       "std      0.795834   34134.665280\n",
       "min      2.000000   20129.000000\n",
       "25%      5.000000   34429.500000\n",
       "50%      5.000000   45000.000000\n",
       "75%      5.000000   65000.000000\n",
       "max      7.000000  215000.000000"
      ]
     },
     "metadata": {},
     "output_type": "display_data"
    },
    {
     "data": {
      "text/plain": [
       "'<<< DATASET 2 >>>'"
      ]
     },
     "metadata": {},
     "output_type": "display_data"
    },
    {
     "data": {
      "text/html": [
       "<div>\n",
       "<style scoped>\n",
       "    .dataframe tbody tr th:only-of-type {\n",
       "        vertical-align: middle;\n",
       "    }\n",
       "\n",
       "    .dataframe tbody tr th {\n",
       "        vertical-align: top;\n",
       "    }\n",
       "\n",
       "    .dataframe thead th {\n",
       "        text-align: right;\n",
       "    }\n",
       "</style>\n",
       "<table border=\"1\" class=\"dataframe\">\n",
       "  <thead>\n",
       "    <tr style=\"text-align: right;\">\n",
       "      <th></th>\n",
       "      <th>year</th>\n",
       "      <th>value</th>\n",
       "    </tr>\n",
       "  </thead>\n",
       "  <tbody>\n",
       "    <tr>\n",
       "      <th>count</th>\n",
       "      <td>2776.000000</td>\n",
       "      <td>2.776000e+03</td>\n",
       "    </tr>\n",
       "    <tr>\n",
       "      <th>mean</th>\n",
       "      <td>2016.438401</td>\n",
       "      <td>9.015623e+04</td>\n",
       "    </tr>\n",
       "    <tr>\n",
       "      <th>std</th>\n",
       "      <td>3.583217</td>\n",
       "      <td>6.186595e+05</td>\n",
       "    </tr>\n",
       "    <tr>\n",
       "      <th>min</th>\n",
       "      <td>2010.000000</td>\n",
       "      <td>1.600000e-05</td>\n",
       "    </tr>\n",
       "    <tr>\n",
       "      <th>25%</th>\n",
       "      <td>2013.000000</td>\n",
       "      <td>9.100000e-01</td>\n",
       "    </tr>\n",
       "    <tr>\n",
       "      <th>50%</th>\n",
       "      <td>2017.000000</td>\n",
       "      <td>4.000000e+02</td>\n",
       "    </tr>\n",
       "    <tr>\n",
       "      <th>75%</th>\n",
       "      <td>2020.000000</td>\n",
       "      <td>1.000000e+04</td>\n",
       "    </tr>\n",
       "    <tr>\n",
       "      <th>max</th>\n",
       "      <td>2022.000000</td>\n",
       "      <td>1.800000e+07</td>\n",
       "    </tr>\n",
       "  </tbody>\n",
       "</table>\n",
       "</div>"
      ],
      "text/plain": [
       "              year         value\n",
       "count  2776.000000  2.776000e+03\n",
       "mean   2016.438401  9.015623e+04\n",
       "std       3.583217  6.186595e+05\n",
       "min    2010.000000  1.600000e-05\n",
       "25%    2013.000000  9.100000e-01\n",
       "50%    2017.000000  4.000000e+02\n",
       "75%    2020.000000  1.000000e+04\n",
       "max    2022.000000  1.800000e+07"
      ]
     },
     "metadata": {},
     "output_type": "display_data"
    }
   ],
   "source": [
    "# getting a statistical summary of the datasets\n",
    "d1 = df1.describe()\n",
    "d2 = df2.describe()\n",
    "display('<<< DATASET 1 >>>', d1, '<<< DATASET 2 >>>', d2)"
   ]
  },
  {
   "cell_type": "markdown",
   "metadata": {
    "id": "ukmijxJWSgcU"
   },
   "source": [
    "# **DATASET 1 EDA**"
   ]
  },
  {
   "cell_type": "code",
   "execution_count": 47,
   "metadata": {},
   "outputs": [
    {
     "data": {
      "text/html": [
       "<div>\n",
       "<style scoped>\n",
       "    .dataframe tbody tr th:only-of-type {\n",
       "        vertical-align: middle;\n",
       "    }\n",
       "\n",
       "    .dataframe tbody tr th {\n",
       "        vertical-align: top;\n",
       "    }\n",
       "\n",
       "    .dataframe thead th {\n",
       "        text-align: right;\n",
       "    }\n",
       "</style>\n",
       "<table border=\"1\" class=\"dataframe\">\n",
       "  <thead>\n",
       "    <tr style=\"text-align: right;\">\n",
       "      <th></th>\n",
       "      <th>Brand</th>\n",
       "      <th>Model</th>\n",
       "      <th>Accel</th>\n",
       "      <th>TopSpeed</th>\n",
       "      <th>Range</th>\n",
       "      <th>Efficiency</th>\n",
       "      <th>FastCharge</th>\n",
       "      <th>RapidCharge</th>\n",
       "      <th>PowerTrain</th>\n",
       "      <th>PlugType</th>\n",
       "      <th>BodyStyle</th>\n",
       "      <th>Segment</th>\n",
       "      <th>Seats</th>\n",
       "      <th>PriceEuro</th>\n",
       "    </tr>\n",
       "  </thead>\n",
       "  <tbody>\n",
       "    <tr>\n",
       "      <th>0</th>\n",
       "      <td>Tesla</td>\n",
       "      <td>Model 3 Long Range Dual Motor</td>\n",
       "      <td>4.6 sec</td>\n",
       "      <td>233 km/h</td>\n",
       "      <td>450 km</td>\n",
       "      <td>161 Wh/km</td>\n",
       "      <td>940 km/h</td>\n",
       "      <td>Rapid charging possible</td>\n",
       "      <td>All Wheel Drive</td>\n",
       "      <td>Type 2 CCS</td>\n",
       "      <td>Sedan</td>\n",
       "      <td>D</td>\n",
       "      <td>5</td>\n",
       "      <td>55480</td>\n",
       "    </tr>\n",
       "    <tr>\n",
       "      <th>1</th>\n",
       "      <td>Volkswagen</td>\n",
       "      <td>ID.3 Pure</td>\n",
       "      <td>10.0 sec</td>\n",
       "      <td>160 km/h</td>\n",
       "      <td>270 km</td>\n",
       "      <td>167 Wh/km</td>\n",
       "      <td>250 km/h</td>\n",
       "      <td>Rapid charging possible</td>\n",
       "      <td>Rear Wheel Drive</td>\n",
       "      <td>Type 2 CCS</td>\n",
       "      <td>Hatchback</td>\n",
       "      <td>C</td>\n",
       "      <td>5</td>\n",
       "      <td>30000</td>\n",
       "    </tr>\n",
       "    <tr>\n",
       "      <th>2</th>\n",
       "      <td>Polestar</td>\n",
       "      <td>2</td>\n",
       "      <td>4.7 sec</td>\n",
       "      <td>210 km/h</td>\n",
       "      <td>400 km</td>\n",
       "      <td>181 Wh/km</td>\n",
       "      <td>620 km/h</td>\n",
       "      <td>Rapid charging possible</td>\n",
       "      <td>All Wheel Drive</td>\n",
       "      <td>Type 2 CCS</td>\n",
       "      <td>Liftback</td>\n",
       "      <td>D</td>\n",
       "      <td>5</td>\n",
       "      <td>56440</td>\n",
       "    </tr>\n",
       "    <tr>\n",
       "      <th>3</th>\n",
       "      <td>BMW</td>\n",
       "      <td>iX3</td>\n",
       "      <td>6.8 sec</td>\n",
       "      <td>180 km/h</td>\n",
       "      <td>360 km</td>\n",
       "      <td>206 Wh/km</td>\n",
       "      <td>560 km/h</td>\n",
       "      <td>Rapid charging possible</td>\n",
       "      <td>Rear Wheel Drive</td>\n",
       "      <td>Type 2 CCS</td>\n",
       "      <td>SUV</td>\n",
       "      <td>D</td>\n",
       "      <td>5</td>\n",
       "      <td>68040</td>\n",
       "    </tr>\n",
       "    <tr>\n",
       "      <th>4</th>\n",
       "      <td>Honda</td>\n",
       "      <td>e</td>\n",
       "      <td>9.5 sec</td>\n",
       "      <td>145 km/h</td>\n",
       "      <td>170 km</td>\n",
       "      <td>168 Wh/km</td>\n",
       "      <td>190 km/h</td>\n",
       "      <td>Rapid charging possible</td>\n",
       "      <td>Rear Wheel Drive</td>\n",
       "      <td>Type 2 CCS</td>\n",
       "      <td>Hatchback</td>\n",
       "      <td>B</td>\n",
       "      <td>4</td>\n",
       "      <td>32997</td>\n",
       "    </tr>\n",
       "  </tbody>\n",
       "</table>\n",
       "</div>"
      ],
      "text/plain": [
       "         Brand                          Model     Accel  TopSpeed   Range  \\\n",
       "0       Tesla   Model 3 Long Range Dual Motor   4.6 sec  233 km/h  450 km   \n",
       "1  Volkswagen                       ID.3 Pure  10.0 sec  160 km/h  270 km   \n",
       "2    Polestar                               2   4.7 sec  210 km/h  400 km   \n",
       "3         BMW                            iX3    6.8 sec  180 km/h  360 km   \n",
       "4       Honda                              e    9.5 sec  145 km/h  170 km   \n",
       "\n",
       "  Efficiency FastCharge              RapidCharge        PowerTrain  \\\n",
       "0  161 Wh/km   940 km/h  Rapid charging possible   All Wheel Drive   \n",
       "1  167 Wh/km   250 km/h  Rapid charging possible  Rear Wheel Drive   \n",
       "2  181 Wh/km   620 km/h  Rapid charging possible   All Wheel Drive   \n",
       "3  206 Wh/km   560 km/h  Rapid charging possible  Rear Wheel Drive   \n",
       "4  168 Wh/km   190 km/h  Rapid charging possible  Rear Wheel Drive   \n",
       "\n",
       "     PlugType  BodyStyle Segment  Seats  PriceEuro  \n",
       "0  Type 2 CCS      Sedan       D      5      55480  \n",
       "1  Type 2 CCS  Hatchback       C      5      30000  \n",
       "2  Type 2 CCS   Liftback       D      5      56440  \n",
       "3  Type 2 CCS        SUV       D      5      68040  \n",
       "4  Type 2 CCS  Hatchback       B      4      32997  "
      ]
     },
     "execution_count": 47,
     "metadata": {},
     "output_type": "execute_result"
    }
   ],
   "source": [
    "df1.head()"
   ]
  },
  {
   "cell_type": "code",
   "execution_count": 48,
   "metadata": {
    "colab": {
     "base_uri": "https://localhost:8080/",
     "height": 596
    },
    "id": "LQ1zh5PH_JCx",
    "outputId": "73d2441d-66bd-4366-af5f-7af6b696bbd2"
   },
   "outputs": [],
   "source": [
    "# Setting visual style\n",
    "sns.set(style='whitegrid')\n",
    "\n",
    "# 1. Seats Type Distribution\n",
    "fuel_counts = df1['Seats'].value_counts()\n",
    "\n",
    "# 2. PowerTrain Type Distribution\n",
    "transmission_counts = df1['PowerTrain'].value_counts()\n",
    "\n",
    "# 3. BodyStyle Type Distribution\n",
    "seller_counts = df1['BodyStyle'].value_counts()\n",
    "\n",
    "# 4. Segment Distribution\n",
    "owner_counts = df1['Segment'].value_counts()\n",
    "\n",
    "# 5. PlugType Distribution\n",
    "year_counts = df1['PlugType'].value_counts().sort_index()"
   ]
  },
  {
   "cell_type": "code",
   "execution_count": 49,
   "metadata": {},
   "outputs": [],
   "source": [
    "# 6. Correlation Heatmap\n",
    "# Select only numeric columns before computing correlation\n",
    "numeric_cols = df1.select_dtypes(include=['number'])\n",
    "\n",
    "# Now safely calculate correlation\n",
    "correlation = numeric_cols.corr()"
   ]
  },
  {
   "cell_type": "code",
   "execution_count": 65,
   "metadata": {},
   "outputs": [
    {
     "name": "stderr",
     "output_type": "stream",
     "text": [
      "C:\\Users\\Bhanu\\AppData\\Local\\Temp\\ipykernel_5408\\3639818370.py:3: FutureWarning: \n",
      "\n",
      "Passing `palette` without assigning `hue` is deprecated and will be removed in v0.14.0. Assign the `x` variable to `hue` and set `legend=False` for the same effect.\n",
      "\n",
      "  sns.countplot(x='Seats', data=df1, palette='Set3')\n"
     ]
    },
    {
     "data": {
      "image/png": "[encoded data removed]",
      "text/plain": [
       "<Figure size 1000x400 with 1 Axes>"
      ]
     },
     "metadata": {},
     "output_type": "display_data"
    }
   ],
   "source": [
    "# Transmission Type\n",
    "plt.figure(figsize=(10, 4))\n",
    "sns.countplot(x='Seats', data=df1, palette='Set3')\n",
    "plt.title('Number of Seats Distribution')\n",
    "plt.xlabel('Number of Seats')\n",
    "plt.ylabel('Count')\n",
    "plt.show()"
   ]
  },
  {
   "cell_type": "code",
   "execution_count": 64,
   "metadata": {},
   "outputs": [
    {
     "name": "stderr",
     "output_type": "stream",
     "text": [
      "C:\\Users\\Bhanu\\AppData\\Local\\Temp\\ipykernel_5408\\1427739853.py:3: FutureWarning: \n",
      "\n",
      "Passing `palette` without assigning `hue` is deprecated and will be removed in v0.14.0. Assign the `x` variable to `hue` and set `legend=False` for the same effect.\n",
      "\n",
      "  sns.countplot(x='PowerTrain', data=df1, palette='cool')\n"
     ]
    },
    {
     "data": {
      "image/png": "[encoded data removed]",
      "text/plain": [
       "<Figure size 1000x400 with 1 Axes>"
      ]
     },
     "metadata": {},
     "output_type": "display_data"
    }
   ],
   "source": [
    "# Seller Type\n",
    "plt.figure(figsize=(10, 4))\n",
    "sns.countplot(x='PowerTrain', data=df1, palette='cool')\n",
    "plt.title('PowerTrain Distribution')\n",
    "plt.xlabel('PowerTrain')\n",
    "plt.ylabel('Count')\n",
    "plt.show()"
   ]
  },
  {
   "cell_type": "code",
   "execution_count": 63,
   "metadata": {},
   "outputs": [
    {
     "name": "stderr",
     "output_type": "stream",
     "text": [
      "C:\\Users\\Bhanu\\AppData\\Local\\Temp\\ipykernel_5408\\676691801.py:3: FutureWarning: \n",
      "\n",
      "Passing `palette` without assigning `hue` is deprecated and will be removed in v0.14.0. Assign the `x` variable to `hue` and set `legend=False` for the same effect.\n",
      "\n",
      "  sns.countplot(x='BodyStyle', data=df1, palette='autumn')\n"
     ]
    },
    {
     "data": {
      "image/png": "[encoded data removed]",
      "text/plain": [
       "<Figure size 1000x400 with 1 Axes>"
      ]
     },
     "metadata": {},
     "output_type": "display_data"
    }
   ],
   "source": [
    "# Owner Distribution\n",
    "plt.figure(figsize=(10, 4))\n",
    "sns.countplot(x='BodyStyle', data=df1, palette='autumn')\n",
    "plt.title('BodyStyle Distribution')\n",
    "plt.xlabel('BodyStyle')\n",
    "plt.ylabel('Count')\n",
    "plt.show()"
   ]
  },
  {
   "cell_type": "code",
   "execution_count": 62,
   "metadata": {},
   "outputs": [
    {
     "data": {
      "image/png": "[encoded data removed]",
      "text/plain": [
       "<Figure size 1000x600 with 1 Axes>"
      ]
     },
     "metadata": {},
     "output_type": "display_data"
    }
   ],
   "source": [
    "# Plotting\n",
    "Segment_counts = df1['Segment'].value_counts().sort_index()\n",
    "\n",
    "plt.figure(figsize=(10, 6))\n",
    "sns.lineplot(x=Segment_counts.index, y=Segment_counts.values, marker='o')\n",
    "plt.title('Segment Trend')\n",
    "plt.xlabel('Segment')\n",
    "plt.ylabel('Number of Cars')\n",
    "plt.grid(True)\n",
    "plt.show()"
   ]
  },
  {
   "cell_type": "code",
   "execution_count": 61,
   "metadata": {},
   "outputs": [
    {
     "name": "stderr",
     "output_type": "stream",
     "text": [
      "C:\\Users\\Bhanu\\AppData\\Local\\Temp\\ipykernel_5408\\1682605677.py:3: FutureWarning: \n",
      "\n",
      "Passing `palette` without assigning `hue` is deprecated and will be removed in v0.14.0. Assign the `x` variable to `hue` and set `legend=False` for the same effect.\n",
      "\n",
      "  sns.countplot(x='PlugType', data=df1, palette='autumn')\n"
     ]
    },
    {
     "data": {
      "image/png": "[encoded data removed]",
      "text/plain": [
       "<Figure size 1000x400 with 1 Axes>"
      ]
     },
     "metadata": {},
     "output_type": "display_data"
    }
   ],
   "source": [
    "# Owner Distribution\n",
    "plt.figure(figsize=(10, 4))\n",
    "sns.countplot(x='PlugType', data=df1, palette='autumn')\n",
    "plt.title('PlugType Distribution')\n",
    "plt.xlabel('PlugType')\n",
    "plt.ylabel('Count')\n",
    "plt.show()"
   ]
  },
  {
   "cell_type": "code",
   "execution_count": 67,
   "metadata": {},
   "outputs": [
    {
     "data": {
      "image/png": "[encoded data removed]",
      "text/plain": [
       "<Figure size 800x600 with 2 Axes>"
      ]
     },
     "metadata": {},
     "output_type": "display_data"
    }
   ],
   "source": [
    "# Plotting\n",
    "numeric_cols = df1.select_dtypes(include=['number'])\n",
    "correlation = numeric_cols.corr()\n",
    "\n",
    "plt.figure(figsize=(8,6))\n",
    "sns.heatmap(correlation, annot=True, cmap='coolwarm', fmt=\".2f\", linewidths=0.5)\n",
    "plt.title('Correlation Heatmap (Numeric Features Only)')\n",
    "plt.show()"
   ]
  },
  {
   "cell_type": "code",
   "execution_count": null,
   "metadata": {},
   "outputs": [],
   "source": []
  },
  {
   "cell_type": "markdown",
   "metadata": {
    "id": "GX7uQPPQTZ3R"
   },
   "source": [
    "# **DATASET 2 EDA**"
   ]
  },
  {
   "cell_type": "code",
   "execution_count": null,
   "metadata": {},
   "outputs": [],
   "source": []
  },
  {
   "cell_type": "code",
   "execution_count": 68,
   "metadata": {},
   "outputs": [
    {
     "name": "stdout",
     "output_type": "stream",
     "text": [
      "<class 'pandas.core.frame.DataFrame'>\n",
      "RangeIndex: 2776 entries, 0 to 2775\n",
      "Data columns (total 8 columns):\n",
      " #   Column      Non-Null Count  Dtype  \n",
      "---  ------      --------------  -----  \n",
      " 0   region      2776 non-null   object \n",
      " 1   category    2776 non-null   object \n",
      " 2   parameter   2776 non-null   object \n",
      " 3   mode        2776 non-null   object \n",
      " 4   powertrain  2776 non-null   object \n",
      " 5   year        2776 non-null   int64  \n",
      " 6   unit        2776 non-null   object \n",
      " 7   value       2776 non-null   float64\n",
      "dtypes: float64(1), int64(1), object(6)\n",
      "memory usage: 173.6+ KB\n"
     ]
    }
   ],
   "source": [
    "# Display basic information about the dataset\n",
    "df_info = df2.info()\n",
    "df_head = df2.head()\n",
    "df_description = df2.describe(include='all')"
   ]
  },
  {
   "cell_type": "code",
   "execution_count": 69,
   "metadata": {},
   "outputs": [
    {
     "data": {
      "text/plain": [
       "(None,\n",
       "       region    category       parameter  mode powertrain  year      unit  \\\n",
       " 0  Australia  Historical        EV stock  Cars        BEV  2011  Vehicles   \n",
       " 1  Australia  Historical  EV stock share  Cars         EV  2011   percent   \n",
       " 2  Australia  Historical  EV sales share  Cars         EV  2011   percent   \n",
       " 3  Australia  Historical        EV sales  Cars        BEV  2011  Vehicles   \n",
       " 4  Australia  Historical        EV sales  Cars        BEV  2012  Vehicles   \n",
       " \n",
       "        value  \n",
       " 0   49.00000  \n",
       " 1    0.00046  \n",
       " 2    0.00650  \n",
       " 3   49.00000  \n",
       " 4  170.00000  ,\n",
       "        region    category parameter  mode powertrain         year      unit  \\\n",
       " count    2776        2776      2776  2776       2776  2776.000000      2776   \n",
       " unique     36           1         7     1          3          NaN         5   \n",
       " top     World  Historical  EV sales  Cars         EV          NaN  Vehicles   \n",
       " freq      117        2776       834  2776       1112          NaN      1664   \n",
       " mean      NaN         NaN       NaN   NaN        NaN  2016.438401       NaN   \n",
       " std       NaN         NaN       NaN   NaN        NaN     3.583217       NaN   \n",
       " min       NaN         NaN       NaN   NaN        NaN  2010.000000       NaN   \n",
       " 25%       NaN         NaN       NaN   NaN        NaN  2013.000000       NaN   \n",
       " 50%       NaN         NaN       NaN   NaN        NaN  2017.000000       NaN   \n",
       " 75%       NaN         NaN       NaN   NaN        NaN  2020.000000       NaN   \n",
       " max       NaN         NaN       NaN   NaN        NaN  2022.000000       NaN   \n",
       " \n",
       "                value  \n",
       " count   2.776000e+03  \n",
       " unique           NaN  \n",
       " top              NaN  \n",
       " freq             NaN  \n",
       " mean    9.015623e+04  \n",
       " std     6.186595e+05  \n",
       " min     1.600000e-05  \n",
       " 25%     9.100000e-01  \n",
       " 50%     4.000000e+02  \n",
       " 75%     1.000000e+04  \n",
       " max     1.800000e+07  )"
      ]
     },
     "execution_count": 69,
     "metadata": {},
     "output_type": "execute_result"
    }
   ],
   "source": [
    "df_info, df_head, df_description"
   ]
  },
  {
   "cell_type": "code",
   "execution_count": null,
   "metadata": {},
   "outputs": [],
   "source": []
  },
  {
   "cell_type": "code",
   "execution_count": 70,
   "metadata": {},
   "outputs": [
    {
     "data": {
      "text/html": [
       "<div>\n",
       "<style scoped>\n",
       "    .dataframe tbody tr th:only-of-type {\n",
       "        vertical-align: middle;\n",
       "    }\n",
       "\n",
       "    .dataframe tbody tr th {\n",
       "        vertical-align: top;\n",
       "    }\n",
       "\n",
       "    .dataframe thead th {\n",
       "        text-align: right;\n",
       "    }\n",
       "</style>\n",
       "<table border=\"1\" class=\"dataframe\">\n",
       "  <thead>\n",
       "    <tr style=\"text-align: right;\">\n",
       "      <th></th>\n",
       "      <th>region</th>\n",
       "      <th>category</th>\n",
       "      <th>parameter</th>\n",
       "      <th>mode</th>\n",
       "      <th>powertrain</th>\n",
       "      <th>year</th>\n",
       "      <th>unit</th>\n",
       "      <th>value</th>\n",
       "    </tr>\n",
       "  </thead>\n",
       "  <tbody>\n",
       "    <tr>\n",
       "      <th>0</th>\n",
       "      <td>Australia</td>\n",
       "      <td>Historical</td>\n",
       "      <td>EV stock</td>\n",
       "      <td>Cars</td>\n",
       "      <td>BEV</td>\n",
       "      <td>2011</td>\n",
       "      <td>Vehicles</td>\n",
       "      <td>49.00000</td>\n",
       "    </tr>\n",
       "    <tr>\n",
       "      <th>1</th>\n",
       "      <td>Australia</td>\n",
       "      <td>Historical</td>\n",
       "      <td>EV stock share</td>\n",
       "      <td>Cars</td>\n",
       "      <td>EV</td>\n",
       "      <td>2011</td>\n",
       "      <td>percent</td>\n",
       "      <td>0.00046</td>\n",
       "    </tr>\n",
       "    <tr>\n",
       "      <th>2</th>\n",
       "      <td>Australia</td>\n",
       "      <td>Historical</td>\n",
       "      <td>EV sales share</td>\n",
       "      <td>Cars</td>\n",
       "      <td>EV</td>\n",
       "      <td>2011</td>\n",
       "      <td>percent</td>\n",
       "      <td>0.00650</td>\n",
       "    </tr>\n",
       "    <tr>\n",
       "      <th>3</th>\n",
       "      <td>Australia</td>\n",
       "      <td>Historical</td>\n",
       "      <td>EV sales</td>\n",
       "      <td>Cars</td>\n",
       "      <td>BEV</td>\n",
       "      <td>2011</td>\n",
       "      <td>Vehicles</td>\n",
       "      <td>49.00000</td>\n",
       "    </tr>\n",
       "    <tr>\n",
       "      <th>4</th>\n",
       "      <td>Australia</td>\n",
       "      <td>Historical</td>\n",
       "      <td>EV sales</td>\n",
       "      <td>Cars</td>\n",
       "      <td>BEV</td>\n",
       "      <td>2012</td>\n",
       "      <td>Vehicles</td>\n",
       "      <td>170.00000</td>\n",
       "    </tr>\n",
       "  </tbody>\n",
       "</table>\n",
       "</div>"
      ],
      "text/plain": [
       "      region    category       parameter  mode powertrain  year      unit  \\\n",
       "0  Australia  Historical        EV stock  Cars        BEV  2011  Vehicles   \n",
       "1  Australia  Historical  EV stock share  Cars         EV  2011   percent   \n",
       "2  Australia  Historical  EV sales share  Cars         EV  2011   percent   \n",
       "3  Australia  Historical        EV sales  Cars        BEV  2011  Vehicles   \n",
       "4  Australia  Historical        EV sales  Cars        BEV  2012  Vehicles   \n",
       "\n",
       "       value  \n",
       "0   49.00000  \n",
       "1    0.00046  \n",
       "2    0.00650  \n",
       "3   49.00000  \n",
       "4  170.00000  "
      ]
     },
     "execution_count": 70,
     "metadata": {},
     "output_type": "execute_result"
    }
   ],
   "source": [
    "df2.head()"
   ]
  },
  {
   "cell_type": "code",
   "execution_count": 71,
   "metadata": {},
   "outputs": [],
   "source": [
    "# Setting visual style\n",
    "sns.set(style='whitegrid')\n",
    "\n",
    "# 1. parameter Distribution\n",
    "Gender_counts = df2['parameter'].value_counts()\n",
    "\n",
    "# 2. powertrain Distribution\n",
    "Commute_counts = df2['powertrain'].value_counts()\n",
    "\n",
    "# 3. year Distribution\n",
    "Base_body_size_counts = df2['year'].value_counts()\n",
    "\n",
    "# 6. Correlation Heatmap\n",
    "# Select only numeric columns before computing correlation\n",
    "numeric_cols = df2.select_dtypes(include=['number'])\n",
    "\n",
    "# Now safely calculate correlation\n",
    "correlation = numeric_cols.corr()"
   ]
  },
  {
   "cell_type": "code",
   "execution_count": 75,
   "metadata": {},
   "outputs": [
    {
     "name": "stderr",
     "output_type": "stream",
     "text": [
      "C:\\Users\\Bhanu\\AppData\\Local\\Temp\\ipykernel_5408\\2404816021.py:3: FutureWarning: \n",
      "\n",
      "Passing `palette` without assigning `hue` is deprecated and will be removed in v0.14.0. Assign the `x` variable to `hue` and set `legend=False` for the same effect.\n",
      "\n",
      "  sns.countplot(x='parameter', data=df2, palette='Set2')\n"
     ]
    },
    {
     "data": {
      "image/png": "[encoded data removed]",
      "text/plain": [
       "<Figure size 1500x500 with 1 Axes>"
      ]
     },
     "metadata": {},
     "output_type": "display_data"
    }
   ],
   "source": [
    "# Fuel Type\n",
    "plt.figure(figsize=(15, 5))\n",
    "sns.countplot(x='parameter', data=df2, palette='Set2')\n",
    "plt.title('parameter Distribution')\n",
    "plt.xlabel('parameter')\n",
    "plt.ylabel('Number of cars')\n",
    "plt.show()"
   ]
  },
  {
   "cell_type": "code",
   "execution_count": 76,
   "metadata": {},
   "outputs": [
    {
     "name": "stderr",
     "output_type": "stream",
     "text": [
      "C:\\Users\\Bhanu\\AppData\\Local\\Temp\\ipykernel_5408\\2725367148.py:3: FutureWarning: \n",
      "\n",
      "Passing `palette` without assigning `hue` is deprecated and will be removed in v0.14.0. Assign the `x` variable to `hue` and set `legend=False` for the same effect.\n",
      "\n",
      "  sns.countplot(x='powertrain', data=df2, palette='Set2')\n"
     ]
    },
    {
     "data": {
      "image/png": "[encoded data removed]",
      "text/plain": [
       "<Figure size 800x500 with 1 Axes>"
      ]
     },
     "metadata": {},
     "output_type": "display_data"
    }
   ],
   "source": [
    "# Commute Type\n",
    "plt.figure(figsize=(8, 5))\n",
    "sns.countplot(x='powertrain', data=df2, palette='Set2')\n",
    "plt.title('Powertrain Distribution')\n",
    "plt.xlabel('Train Type')\n",
    "plt.ylabel('Count')\n",
    "plt.show()"
   ]
  },
  {
   "cell_type": "code",
   "execution_count": 78,
   "metadata": {},
   "outputs": [
    {
     "data": {
      "image/png": "[encoded data removed]",
      "text/plain": [
       "<Figure size 1200x800 with 1 Axes>"
      ]
     },
     "metadata": {},
     "output_type": "display_data"
    }
   ],
   "source": [
    "# Base body size\n",
    "year_counts = df2['year'].value_counts().sort_index()\n",
    "\n",
    "plt.figure(figsize=(12, 8))\n",
    "sns.lineplot(x=year_counts.index, y=year_counts.values, marker='o')\n",
    "plt.title('Manufacturing year Distribution')\n",
    "plt.xlabel('Manufacturing year')\n",
    "plt.ylabel('Number of Cars')\n",
    "plt.grid(True)\n",
    "plt.show()"
   ]
  },
  {
   "cell_type": "code",
   "execution_count": 80,
   "metadata": {},
   "outputs": [
    {
     "data": {
      "image/png": "[encoded data removed]",
      "text/plain": [
       "<Figure size 800x700 with 2 Axes>"
      ]
     },
     "metadata": {},
     "output_type": "display_data"
    }
   ],
   "source": [
    "numeric_cols = df2.select_dtypes(include=['number'])\n",
    "correlation = numeric_cols.corr()\n",
    "\n",
    "plt.figure(figsize=(8,7))\n",
    "sns.heatmap(correlation, annot=True, cmap='coolwarm', fmt=\".2f\", linewidths=0.5)\n",
    "plt.title('Correlation Heatmap (Numeric Features Only)')\n",
    "plt.show()"
   ]
  },
  {
   "cell_type": "code",
   "execution_count": null,
   "metadata": {},
   "outputs": [],
   "source": []
  },
  {
   "cell_type": "code",
   "execution_count": null,
   "metadata": {},
   "outputs": [],
   "source": []
  },
  {
   "cell_type": "code",
   "execution_count": null,
   "metadata": {},
   "outputs": [],
   "source": []
  },
  {
   "cell_type": "code",
   "execution_count": null,
   "metadata": {},
   "outputs": [],
   "source": []
  },
  {
   "cell_type": "code",
   "execution_count": null,
   "metadata": {},
   "outputs": [],
   "source": []
  },
  {
   "cell_type": "code",
   "execution_count": null,
   "metadata": {},
   "outputs": [],
   "source": []
  }
 ],
 "metadata": {
  "colab": {
   "provenance": []
  },
  "kernelspec": {
   "display_name": "Python 3 (ipykernel)",
   "language": "python",
   "name": "python3"
  },
  "language_info": {
   "codemirror_mode": {
    "name": "ipython",
    "version": 3
   },
   "file_extension": ".py",
   "mimetype": "text/x-python",
   "name": "python",
   "nbconvert_exporter": "python",
   "pygments_lexer": "ipython3",
   "version": "3.12.4"
  }
 },
 "nbformat": 4,
 "nbformat_minor": 4
}
